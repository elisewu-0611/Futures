{
 "cells": [
  {
   "cell_type": "code",
   "execution_count": null,
   "metadata": {},
   "outputs": [],
   "source": [
    "from selenium import webdriver\n",
    "from time import sleep\n",
    "import csv\n",
    "\n",
    "driver = webdriver.Chrome()\n",
    "driver.get(\"https://finance.yahoo.com/quote/YM%3DF/history?period1=1572220800&period2=1585353600\")\n",
    "\n",
    "data = driver.find_elements_by_xpath(\"//div/table/tbody/tr\")\n",
    "title = driver.find_elements_by_xpath(\"//div/table/thead/tr\")\n",
    "\n",
    "title_1 = []\n",
    "for i in title:\n",
    "    x = i.text.split()\n",
    "    title_1.append(x)\n",
    "\n",
    "with open(\"Dow.csv\", \"a+\", newline=\"\", encoding=\"UTF-8\") as f:\n",
    "    writer = csv.writer(f)\n",
    "    T = [title_1[0][0].strip(), title_1[0][1].strip(), \n",
    "        title_1[0][2].strip(), title_1[0][3].strip(),\n",
    "        title_1[0][4].strip(), title_1[0][7].strip()]\n",
    "    writer.writerow(T)\n",
    "\n",
    "for d in data:\n",
    "    da = d.text.split('\\n')\n",
    "    # ['Mar 29, 2020 20,926.00 21,244.00 20,778.00 21,213.00 21,213.00 711,107']\n",
    "    for i in da:\n",
    "        info = i.split(\" \")\n",
    "        # ['Mar', '29,', '2020', '20,926.00', '21,244.00', '20,778.00', '21,213.00', '21,213.00', '711,107']\n",
    "        date = info[2] + \"-\" + info[0] + \"-\" + info[1]\n",
    "        Open = info[3]\n",
    "        high = info[4]\n",
    "        low = info [5]\n",
    "        close = info[6]\n",
    "        vol = info[8]\n",
    "        with open(\"Dow.csv\", \"a+\", newline=\"\", encoding=\"UTF-8\") as f:\n",
    "            writer = csv.writer(f)\n",
    "            L = [date.strip(), Open.strip(), \n",
    "                high.strip(), low.strip(), \n",
    "                close.strip(), vol.strip()]\n",
    "            writer.writerow(L)\n",
    "\n",
    "sleep(5)\n",
    "\n",
    "f.close()\n",
    "\n",
    "driver.quit()"
   ]
  },
  {
   "cell_type": "code",
   "execution_count": 5,
   "metadata": {},
   "outputs": [
    {
     "data": {
      "image/png": "[encoded data removed]",
      "text/plain": [
       "<Figure size 432x288 with 1 Axes>"
      ]
     },
     "metadata": {
      "needs_background": "light"
     },
     "output_type": "display_data"
    }
   ],
   "source": [
    "import matplotlib.pyplot as mp\n",
    "import matplotlib.dates as md\n",
    "import matplotlib.ticker as mt\n",
    "from mpl_finance import candlestick2_ochl\n",
    "import pandas as pd\n",
    "import datetime as dt\n",
    "%matplotlib inline\n",
    "\n",
    "data = pd.read_csv(\"Dow1.csv\")\n",
    "data = data.rename(columns={'Open':'open', 'High':'high', 'Low':'low', 'Close*':'close', 'Volume':'vol'})\n",
    "\n",
    "Time = []\n",
    "for i in sorted(range(data.Date.shape[0]), reverse=True):\n",
    "    dmy = data['Date'][i].replace(\",\", \"\")\n",
    "    dmy = dmy.split('\\n')\n",
    "    time = dt.datetime.strptime(dmy[0], \"%Y-%b-%d\").date()\n",
    "    Time.append(time)\n",
    "\n",
    "data[\"Date\"] = pd.to_datetime(data['Date'])\n",
    "data = data.sort_values(by=\"Date\")\n",
    "data.reset_index(inplace=True)\n",
    "del data['index']\n",
    "\n",
    "# 開始畫圖\n",
    "fig = mp.figure()\n",
    "fig.suptitle(\"Dow Jones\", fontsize=20)\n",
    "\n",
    "ax1 = mp.subplot(111)\n",
    "ax1.set_xticks(range(0, len(Time),10))\n",
    "ax1.set_xticklabels(Time[::10])\n",
    "\n",
    "candlestick2_ochl(ax1, data['open'], data['close'], data['high'], data['low'], \n",
    "                  width=0.6, colorup='r', colordown='g', alpha=0.75)\n",
    "\n",
    "mp.gcf().autofmt_xdate()\n",
    "mp.show()"
   ]
  }
 ],
 "metadata": {
  "kernelspec": {
   "display_name": "Python 3",
   "language": "python",
   "name": "python3"
  },
  "language_info": {
   "codemirror_mode": {
    "name": "ipython",
    "version": 3
   },
   "file_extension": ".py",
   "mimetype": "text/x-python",
   "name": "python",
   "nbconvert_exporter": "python",
   "pygments_lexer": "ipython3",
   "version": "3.5.2"
  }
 },
 "nbformat": 4,
 "nbformat_minor": 2
}
